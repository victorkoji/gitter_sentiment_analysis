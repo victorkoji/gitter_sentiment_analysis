{
 "cells": [
  {
   "cell_type": "code",
   "execution_count": 31,
   "metadata": {},
   "outputs": [],
   "source": [
    "import pandas as pd\n",
    "import csv\n",
    "\n",
    "#Nome da pasta tema\n",
    "pasta_tema = \"BOT\"\n",
    "\n",
    "#Nome do arquivo\n",
    "nome_arquivo = \"finnp_gitter_bot\"\n",
    "\n",
    "#Caminho do arquivo\n",
    "path_arquivo = f\"./ChatRooms/{pasta_tema}/{nome_arquivo}/{nome_arquivo}\"\n",
    "\n",
    "#Visualizando os dados:\n",
    "df = pd.read_csv(fr\"{path_arquivo}_threads_classificado.csv\",  encoding='utf-8')\n"
   ]
  },
  {
   "cell_type": "code",
   "execution_count": 32,
   "metadata": {
    "tags": []
   },
   "outputs": [],
   "source": [
    "#Mapeamento de id da thread por id da mensagem \n",
    "threads_caminhos = {}\n",
    "\n",
    "#Percorre todas as linhas do CSV\n",
    "for index, row in df.iterrows():\n",
    "    threads_id = row['DiscussionId']\n",
    "    \n",
    "    #Formata a string em array\n",
    "    string = threads_id.replace(']','').replace('[','')\n",
    "    threads_array = string.replace('\"','').replace(' ','').split(\",\")\n",
    "\n",
    "    #Percorre os id das threads para salvar no dicionário\n",
    "    for thread in threads_array:\n",
    "        if thread and threads_caminhos.get(thread) != None:\n",
    "            threads_caminhos[thread]['message_id']+= f\",{row['ID']}\"         \n",
    "            threads_caminhos[thread][row['Classificação']] += 1\n",
    "        elif thread:\n",
    "            threads_caminhos[thread] = {'thread_id': thread, 'message_id': row['ID'], 'Positive': 0, 'Neutral': 0, 'Negative': 0}\n",
    "            threads_caminhos[thread][row['Classificação']] += 1\n",
    "\n",
    "#Salva em um arquivo CSV os caminhos de cada id da thread\n",
    "with open(fr\"{path_arquivo}_threads_caminhos.csv\", 'w') as f:  \n",
    "    w = csv.DictWriter(f, fieldnames=['thread_id', 'message_id', 'Positive', 'Neutral', 'Negative'])\n",
    "    w.writeheader()\n",
    "    for item in threads_caminhos.items():\n",
    "        w.writerow(item[1])\n",
    "        "
   ]
  },
  {
   "cell_type": "code",
   "execution_count": null,
   "metadata": {},
   "outputs": [],
   "source": []
  }
 ],
 "metadata": {
  "kernelspec": {
   "display_name": "Python 3",
   "language": "python",
   "name": "python3"
  },
  "language_info": {
   "codemirror_mode": {
    "name": "ipython",
    "version": 3
   },
   "file_extension": ".py",
   "mimetype": "text/x-python",
   "name": "python",
   "nbconvert_exporter": "python",
   "pygments_lexer": "ipython3",
   "version": "3.8.5"
  }
 },
 "nbformat": 4,
 "nbformat_minor": 4
}